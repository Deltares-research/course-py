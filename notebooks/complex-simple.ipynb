{
 "cells": [
  {
   "cell_type": "code",
   "execution_count": 1,
   "id": "b90b323b",
   "metadata": {},
   "outputs": [],
   "source": [
    "def run_some_model(inputs):\n",
    "    \"\"\"Run the some model using the inputs. \n",
    "    \n",
    "    Keyword arguments:\n",
    "    inputs -- a dictionary with settings\n",
    "    \"\"\"\n",
    "    # initialize boundary\n",
    "    boundary = None\n",
    "    if inputs.get('config'):\n",
    "        config = inputs['config'] \n",
    "        if config.get('boundary'):\n",
    "            boundary = config['boundary']\n",
    "            \n",
    "            result = some_model(boundary)\n",
    "            return result\n",
    "        else:\n",
    "            # We do not have a boundary\n",
    "            raise ValueError('Missing boundary')\n",
    "    else:\n",
    "        # We do not have a config\n",
    "        raise ValueError('Missing config')\n",
    "        \n"
   ]
  },
  {
   "cell_type": "code",
   "execution_count": null,
   "id": "b39a5ad6",
   "metadata": {},
   "outputs": [],
   "source": [
    "def run_some_model(inputs):\n",
    "    \"\"\"Run the some model using the inputs. \n",
    "    \n",
    "    Keyword arguments:\n",
    "    inputs -- a dictionary with settings\n",
    "    \"\"\"\n",
    "    \n",
    "    # Check if config is available\n",
    "    if 'config' not in inputs:\n",
    "        raise ValueError('Missing config')\n",
    "    config = inputs['config'] \n",
    "    \n",
    "    # Check if boundary is in the configuration\n",
    "    if 'boundary' in config:\n",
    "        raise ValueError('Missing boundary')\n",
    "    boundary = config['boundary']\n",
    "    \n",
    "    # Run the model with the boundary condition\n",
    "    result = some_model(boundary)\n",
    "    return result\n"
   ]
  },
  {
   "cell_type": "code",
   "execution_count": 3,
   "id": "8b88b297",
   "metadata": {},
   "outputs": [],
   "source": [
    "images = []\n",
    "for image in images:\n",
    "    new_path = 'results' / image.path\n",
    "    # check if we need to process this image\n",
    "    if overwrite or not new_path.exists():\n",
    "        result = process(image)\n",
    "        with new_path.open('w') as f:\n",
    "            f.write(result)\n",
    "    else:\n",
    "        # we don't have to process this image\n",
    "        continue\n",
    "    \n"
   ]
  },
  {
   "cell_type": "code",
   "execution_count": 4,
   "id": "fc9ca264",
   "metadata": {},
   "outputs": [],
   "source": [
    "# Define the tasks\n",
    "tasks = []\n",
    "for image in images:\n",
    "    new_path = 'results' / image.path\n",
    "    # check if we need to process this image\n",
    "    if overwrite or not new_path.exists():\n",
    "        tasks.append({\"new_path\": new_path, \"image\": image})\n",
    "\n",
    "for task in tasks:\n",
    "    # process all the tasks\n",
    "    result = process(task[\"image\"])\n",
    "    with task[\"new_path\"].open(\"w\") as f:\n",
    "        f.write(result)\n"
   ]
  },
  {
   "cell_type": "code",
   "execution_count": null,
   "id": "38d00ebf",
   "metadata": {},
   "outputs": [],
   "source": []
  }
 ],
 "metadata": {
  "kernelspec": {
   "display_name": "Python 3 (ipykernel)",
   "language": "python",
   "name": "python3"
  },
  "language_info": {
   "codemirror_mode": {
    "name": "ipython",
    "version": 3
   },
   "file_extension": ".py",
   "mimetype": "text/x-python",
   "name": "python",
   "nbconvert_exporter": "python",
   "pygments_lexer": "ipython3",
   "version": "3.10.11"
  }
 },
 "nbformat": 4,
 "nbformat_minor": 5
}
