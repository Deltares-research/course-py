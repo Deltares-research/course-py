{
 "cells": [
  {
   "cell_type": "code",
   "execution_count": 1,
   "id": "e08287e5-b54e-4de4-ab5a-60b7093ef17f",
   "metadata": {},
   "outputs": [],
   "source": [
    "import pickle\n",
    "\n",
    "import numpy\n",
    "import pandas as pd"
   ]
  },
  {
   "cell_type": "code",
   "execution_count": 2,
   "id": "50081499-2409-4a22-9ee6-ef72ed901cee",
   "metadata": {
    "tags": []
   },
   "outputs": [
    {
     "data": {
      "text/plain": [
       "2"
      ]
     },
     "execution_count": 2,
     "metadata": {},
     "output_type": "execute_result"
    }
   ],
   "source": [
    "def ComputeSomething(Params_1,Params_2):\n",
    "  \"\"\"this computes something\"\"\"\n",
    "  result= numpy.multiply(Params_1, Params_2)\n",
    "  return result\n",
    "ComputeSomething( 1,2 )  "
   ]
  },
  {
   "cell_type": "code",
   "execution_count": 3,
   "id": "99811ee2-1402-481a-ae15-c6f6eaf30857",
   "metadata": {
    "tags": []
   },
   "outputs": [],
   "source": [
    "import numpy as np"
   ]
  },
  {
   "cell_type": "code",
   "execution_count": 4,
   "id": "56c145ab-5d72-44c5-9779-631ce5203975",
   "metadata": {
    "tags": []
   },
   "outputs": [
    {
     "data": {
      "text/plain": [
       "2"
      ]
     },
     "execution_count": 4,
     "metadata": {},
     "output_type": "execute_result"
    }
   ],
   "source": [
    "def compute_something(param_1, param_2):\n",
    "    \"\"\"This computes something.\"\"\"\n",
    "    result = np.multiply(param_1, param_2)\n",
    "    return result\n",
    "\n",
    "\n",
    "compute_something(1, 2)"
   ]
  },
  {
   "cell_type": "code",
   "execution_count": null,
   "id": "bce8eac3-beef-4b5d-b235-75e0903459e3",
   "metadata": {},
   "outputs": [],
   "source": []
  }
 ],
 "metadata": {
  "kernelspec": {
   "display_name": "Python 3 (ipykernel)",
   "language": "python",
   "name": "python3"
  },
  "language_info": {
   "codemirror_mode": {
    "name": "ipython",
    "version": 3
   },
   "file_extension": ".py",
   "mimetype": "text/x-python",
   "name": "python",
   "nbconvert_exporter": "python",
   "pygments_lexer": "ipython3",
   "version": "3.10.11"
  }
 },
 "nbformat": 4,
 "nbformat_minor": 5
}
